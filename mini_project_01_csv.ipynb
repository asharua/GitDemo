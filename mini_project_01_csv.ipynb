{
  "nbformat": 4,
  "nbformat_minor": 0,
  "metadata": {
    "colab": {
      "provenance": [],
      "include_colab_link": true
    },
    "kernelspec": {
      "name": "python3",
      "display_name": "Python 3"
    },
    "language_info": {
      "name": "python"
    }
  },
  "cells": [
    {
      "cell_type": "markdown",
      "metadata": {
        "id": "view-in-github",
        "colab_type": "text"
      },
      "source": [
        "<a href=\"https://colab.research.google.com/github/asharua/GitDemo/blob/master/mini_project_01_csv.ipynb\" target=\"_parent\"><img src=\"https://colab.research.google.com/assets/colab-badge.svg\" alt=\"Open In Colab\"/></a>"
      ]
    },
    {
      "cell_type": "markdown",
      "source": [
        "## **Міні-проєкт 01:** Аналіз замовлень інтернет-магазину\n",
        "\n",
        "**Мета** — закріпити базові конструкції Python, включаючи вбудовані типи даних (числа, рядки, списки, словники тощо) та роботу з функціями, через практику зчитування, очищення й аналізу даних у форматі CSV."
      ],
      "metadata": {
        "id": "UV4rymhWMQ9B"
      }
    },
    {
      "cell_type": "markdown",
      "source": [
        "### **Легенда**\n",
        "\n",
        "Файл: [`orders_extended.csv`](https://github.com/cpython-projects/da_2603/blob/main/orders_project_01.csv) містить дані про замовлення в інтернет-магазині.\n",
        "\n",
        "---\n",
        "\n",
        "* `InvoiceNo` — номер замовлення\n",
        "* `CustomerID` — ID клієнта (може бути відсутній)\n",
        "* `Description` — назва товару\n",
        "* `Quantity` — кількість (іноді відсутня або некоректна)\n",
        "* `UnitPrice` — ціна за одиницю (може містити помилку)\n",
        "* `Category` — категорія товару\n",
        "* `Discount` — знижка від 0.0 до 0.3\n",
        "* `PaymentMethod` — спосіб оплати (наприклад, \"Credit Card\", \"PayPal\", іноді з помилкою у регістрі)"
      ],
      "metadata": {
        "id": "Ki2G3uIzMbd-"
      }
    },
    {
      "cell_type": "markdown",
      "source": [
        "### **Task 1. Зчитайте та очистіть дані**\n",
        "\n",
        "* Використовуйте `csv.DictReader`\n",
        "* Якщо поле **знижка** порожнє — вважайте його рівним `0.0`\n",
        "* Якщо поле **кількість** порожнє — вважайте його рівним `1`\n",
        "* Пропускайте рядки з порожніми або некоректними значеннями в полях `Quantity` або `UnitPrice`"
      ],
      "metadata": {
        "id": "MARoGvA0OqJj"
      }
    },
    {
      "cell_type": "code",
      "execution_count": 1,
      "metadata": {
        "id": "ws7DUigdMQLp",
        "outputId": "953bc8ab-5833-4d68-9983-ee0245c6ebb8",
        "colab": {
          "base_uri": "https://localhost:8080/",
          "height": 73
        }
      },
      "outputs": [
        {
          "output_type": "display_data",
          "data": {
            "text/plain": [
              "<IPython.core.display.HTML object>"
            ],
            "text/html": [
              "\n",
              "     <input type=\"file\" id=\"files-ade5cdc7-550e-4ee0-b91b-21fc10e22e56\" name=\"files[]\" multiple disabled\n",
              "        style=\"border:none\" />\n",
              "     <output id=\"result-ade5cdc7-550e-4ee0-b91b-21fc10e22e56\">\n",
              "      Upload widget is only available when the cell has been executed in the\n",
              "      current browser session. Please rerun this cell to enable.\n",
              "      </output>\n",
              "      <script>// Copyright 2017 Google LLC\n",
              "//\n",
              "// Licensed under the Apache License, Version 2.0 (the \"License\");\n",
              "// you may not use this file except in compliance with the License.\n",
              "// You may obtain a copy of the License at\n",
              "//\n",
              "//      http://www.apache.org/licenses/LICENSE-2.0\n",
              "//\n",
              "// Unless required by applicable law or agreed to in writing, software\n",
              "// distributed under the License is distributed on an \"AS IS\" BASIS,\n",
              "// WITHOUT WARRANTIES OR CONDITIONS OF ANY KIND, either express or implied.\n",
              "// See the License for the specific language governing permissions and\n",
              "// limitations under the License.\n",
              "\n",
              "/**\n",
              " * @fileoverview Helpers for google.colab Python module.\n",
              " */\n",
              "(function(scope) {\n",
              "function span(text, styleAttributes = {}) {\n",
              "  const element = document.createElement('span');\n",
              "  element.textContent = text;\n",
              "  for (const key of Object.keys(styleAttributes)) {\n",
              "    element.style[key] = styleAttributes[key];\n",
              "  }\n",
              "  return element;\n",
              "}\n",
              "\n",
              "// Max number of bytes which will be uploaded at a time.\n",
              "const MAX_PAYLOAD_SIZE = 100 * 1024;\n",
              "\n",
              "function _uploadFiles(inputId, outputId) {\n",
              "  const steps = uploadFilesStep(inputId, outputId);\n",
              "  const outputElement = document.getElementById(outputId);\n",
              "  // Cache steps on the outputElement to make it available for the next call\n",
              "  // to uploadFilesContinue from Python.\n",
              "  outputElement.steps = steps;\n",
              "\n",
              "  return _uploadFilesContinue(outputId);\n",
              "}\n",
              "\n",
              "// This is roughly an async generator (not supported in the browser yet),\n",
              "// where there are multiple asynchronous steps and the Python side is going\n",
              "// to poll for completion of each step.\n",
              "// This uses a Promise to block the python side on completion of each step,\n",
              "// then passes the result of the previous step as the input to the next step.\n",
              "function _uploadFilesContinue(outputId) {\n",
              "  const outputElement = document.getElementById(outputId);\n",
              "  const steps = outputElement.steps;\n",
              "\n",
              "  const next = steps.next(outputElement.lastPromiseValue);\n",
              "  return Promise.resolve(next.value.promise).then((value) => {\n",
              "    // Cache the last promise value to make it available to the next\n",
              "    // step of the generator.\n",
              "    outputElement.lastPromiseValue = value;\n",
              "    return next.value.response;\n",
              "  });\n",
              "}\n",
              "\n",
              "/**\n",
              " * Generator function which is called between each async step of the upload\n",
              " * process.\n",
              " * @param {string} inputId Element ID of the input file picker element.\n",
              " * @param {string} outputId Element ID of the output display.\n",
              " * @return {!Iterable<!Object>} Iterable of next steps.\n",
              " */\n",
              "function* uploadFilesStep(inputId, outputId) {\n",
              "  const inputElement = document.getElementById(inputId);\n",
              "  inputElement.disabled = false;\n",
              "\n",
              "  const outputElement = document.getElementById(outputId);\n",
              "  outputElement.innerHTML = '';\n",
              "\n",
              "  const pickedPromise = new Promise((resolve) => {\n",
              "    inputElement.addEventListener('change', (e) => {\n",
              "      resolve(e.target.files);\n",
              "    });\n",
              "  });\n",
              "\n",
              "  const cancel = document.createElement('button');\n",
              "  inputElement.parentElement.appendChild(cancel);\n",
              "  cancel.textContent = 'Cancel upload';\n",
              "  const cancelPromise = new Promise((resolve) => {\n",
              "    cancel.onclick = () => {\n",
              "      resolve(null);\n",
              "    };\n",
              "  });\n",
              "\n",
              "  // Wait for the user to pick the files.\n",
              "  const files = yield {\n",
              "    promise: Promise.race([pickedPromise, cancelPromise]),\n",
              "    response: {\n",
              "      action: 'starting',\n",
              "    }\n",
              "  };\n",
              "\n",
              "  cancel.remove();\n",
              "\n",
              "  // Disable the input element since further picks are not allowed.\n",
              "  inputElement.disabled = true;\n",
              "\n",
              "  if (!files) {\n",
              "    return {\n",
              "      response: {\n",
              "        action: 'complete',\n",
              "      }\n",
              "    };\n",
              "  }\n",
              "\n",
              "  for (const file of files) {\n",
              "    const li = document.createElement('li');\n",
              "    li.append(span(file.name, {fontWeight: 'bold'}));\n",
              "    li.append(span(\n",
              "        `(${file.type || 'n/a'}) - ${file.size} bytes, ` +\n",
              "        `last modified: ${\n",
              "            file.lastModifiedDate ? file.lastModifiedDate.toLocaleDateString() :\n",
              "                                    'n/a'} - `));\n",
              "    const percent = span('0% done');\n",
              "    li.appendChild(percent);\n",
              "\n",
              "    outputElement.appendChild(li);\n",
              "\n",
              "    const fileDataPromise = new Promise((resolve) => {\n",
              "      const reader = new FileReader();\n",
              "      reader.onload = (e) => {\n",
              "        resolve(e.target.result);\n",
              "      };\n",
              "      reader.readAsArrayBuffer(file);\n",
              "    });\n",
              "    // Wait for the data to be ready.\n",
              "    let fileData = yield {\n",
              "      promise: fileDataPromise,\n",
              "      response: {\n",
              "        action: 'continue',\n",
              "      }\n",
              "    };\n",
              "\n",
              "    // Use a chunked sending to avoid message size limits. See b/62115660.\n",
              "    let position = 0;\n",
              "    do {\n",
              "      const length = Math.min(fileData.byteLength - position, MAX_PAYLOAD_SIZE);\n",
              "      const chunk = new Uint8Array(fileData, position, length);\n",
              "      position += length;\n",
              "\n",
              "      const base64 = btoa(String.fromCharCode.apply(null, chunk));\n",
              "      yield {\n",
              "        response: {\n",
              "          action: 'append',\n",
              "          file: file.name,\n",
              "          data: base64,\n",
              "        },\n",
              "      };\n",
              "\n",
              "      let percentDone = fileData.byteLength === 0 ?\n",
              "          100 :\n",
              "          Math.round((position / fileData.byteLength) * 100);\n",
              "      percent.textContent = `${percentDone}% done`;\n",
              "\n",
              "    } while (position < fileData.byteLength);\n",
              "  }\n",
              "\n",
              "  // All done.\n",
              "  yield {\n",
              "    response: {\n",
              "      action: 'complete',\n",
              "    }\n",
              "  };\n",
              "}\n",
              "\n",
              "scope.google = scope.google || {};\n",
              "scope.google.colab = scope.google.colab || {};\n",
              "scope.google.colab._files = {\n",
              "  _uploadFiles,\n",
              "  _uploadFilesContinue,\n",
              "};\n",
              "})(self);\n",
              "</script> "
            ]
          },
          "metadata": {}
        },
        {
          "output_type": "stream",
          "name": "stdout",
          "text": [
            "Saving orders_project_01.csv to orders_project_01.csv\n"
          ]
        }
      ],
      "source": [
        "from google.colab import files\n",
        "uploaded = files.upload()"
      ]
    },
    {
      "cell_type": "code",
      "source": [
        "import csv\n",
        "import collections\n",
        "import statistics\n",
        "\n",
        "\n",
        "def cleaning_data(orders: list) -> list:\n",
        "    \"\"\"\n",
        "    :param orders:\n",
        "    :return:\n",
        "    \"\"\"\n",
        "    return list(filter(\n",
        "        lambda r: r.get('Quantity') not in ['', None] and\n",
        "                  r.get('UnitPrice') not in ['', None] and\n",
        "                  float(r['UnitPrice']) > 0 and\n",
        "                  int(float(r['Quantity'])) >= 0,\n",
        "        map(lambda r:{\n",
        "                \"InvoiceNo\": r[\"InvoiceNo\"],\n",
        "                \"CustomerID\": r.get(\"CustomerID\", \"\").strip(),\n",
        "                \"Description\": r.get(\"Description\", \"\").strip(),\n",
        "                \"Quantity\": float(r.get(\"Quantity\", \"0\") or \"0\"),\n",
        "                \"UnitPrice\": float(r.get(\"UnitPrice\", \"0\") or \"0\"),\n",
        "                \"Category\": r.get(\"Category\", \"\").strip(),\n",
        "                \"Discount\": float(r.get(\"Discount\", \"0.0\") or \"0.0\"),\n",
        "                \"PaymentMethod\": r.get(\"PaymentMethod\", \"\").strip()\n",
        "        },orders\n",
        "        )\n",
        "    ))\n",
        "\n",
        "    with open(\"orders_project_01.csv\",encoding=\"utf-8\") as file:\n",
        "      reader=csv.DictReader(file)\n",
        "    orders=cleaning_data(list(reader))"
      ],
      "metadata": {
        "id": "SX3H5LNzcy76"
      },
      "execution_count": 4,
      "outputs": []
    },
    {
      "cell_type": "markdown",
      "source": [
        "### **Task 2. Базовий аналіз**"
      ],
      "metadata": {
        "id": "W0aRB1BlPvXl"
      }
    },
    {
      "cell_type": "markdown",
      "source": [
        "*Реалізуйте та викличте функцію `unique_orders(orders)`, яка повертає кількість унікальних замовлень за полем `InvoiceNo`.*"
      ],
      "metadata": {
        "id": "eYbqB8i6QBJ8"
      }
    },
    {
      "cell_type": "code",
      "source": [
        "def unique_orders(orders: list) -> int:\n",
        "    \"\"\"\n",
        "    :param orders:\n",
        "    :return:\n",
        "    \"\"\"\n",
        "    return len(set(orders))\n",
        "    })\n",
        "\n",
        "result = unique_orders(orders)\n",
        "print(result)"
      ],
      "metadata": {
        "id": "QpJHs_25QQBh",
        "outputId": "80e7f53f-c9a7-4f1f-ef61-b1d44cb36fb7",
        "colab": {
          "base_uri": "https://localhost:8080/"
        }
      },
      "execution_count": null,
      "outputs": [
        {
          "output_type": "stream",
          "name": "stdout",
          "text": [
            "10\n"
          ]
        }
      ]
    },
    {
      "cell_type": "markdown",
      "source": [
        "*Реалізуйте та викличте функцію `most_popular_item(orders)` — найпопулярніший товар (за кількістю).*"
      ],
      "metadata": {
        "id": "W2chJ6QNQQoE"
      }
    },
    {
      "cell_type": "code",
      "source": [
        "def most_popular_item(orders: list):\n",
        "  pass\n",
        "\n",
        "result = most_popular_item(orders)\n",
        "print(result)"
      ],
      "metadata": {
        "id": "365gpYf8QVSk"
      },
      "execution_count": null,
      "outputs": []
    },
    {
      "cell_type": "markdown",
      "source": [
        "*Реалізуйте та викличте функцію `total_quantity(orders)` — загальна кількість проданих товарів.*"
      ],
      "metadata": {
        "id": "h7zvyZlQQWAC"
      }
    },
    {
      "cell_type": "code",
      "source": [
        "def total_quantity(orders: list):\n",
        "  pass\n",
        "\n",
        "result = total_quantity(orders)\n",
        "print(result)"
      ],
      "metadata": {
        "id": "kLQKIzF5Qay_"
      },
      "execution_count": null,
      "outputs": []
    },
    {
      "cell_type": "markdown",
      "source": [
        "*Реалізуйте та викличте функцію `total_sales(orders)` — загальна сума продажів (з урахуванням знижки).*"
      ],
      "metadata": {
        "id": "bJ_DmBnNQiQS"
      }
    },
    {
      "cell_type": "code",
      "source": [
        "def total_sales(orders: list):\n",
        "  pass\n",
        "\n",
        "result = total_sales(orders)\n",
        "print(result)"
      ],
      "metadata": {
        "id": "9iqsRmLRQird"
      },
      "execution_count": null,
      "outputs": []
    },
    {
      "cell_type": "markdown",
      "source": [
        "*Реалізуйте та викличте функцію `top_customer(orders)` — ID клієнта з найбільшою сумою покупок (з урахуванням знижки).*"
      ],
      "metadata": {
        "id": "Q3DBiPWUQbPk"
      }
    },
    {
      "cell_type": "code",
      "source": [
        "def top_customer(orders: list):\n",
        "  pass\n",
        "\n",
        "result = top_customer(orders)\n",
        "print(result)"
      ],
      "metadata": {
        "id": "ju2_sBdoQcGX"
      },
      "execution_count": null,
      "outputs": []
    },
    {
      "cell_type": "markdown",
      "source": [
        "### **Task 3. Розширений аналіз**"
      ],
      "metadata": {
        "id": "Ydsg6M5uUBJG"
      }
    },
    {
      "cell_type": "markdown",
      "source": [
        "*Реалізуйте та викличте функцію `top_categories(orders, n=3)` — 3 категорії з найбільшим обсягом продажів.*"
      ],
      "metadata": {
        "id": "_tLZm3JiUIjb"
      }
    },
    {
      "cell_type": "code",
      "source": [
        "def top_categories(orders: list, n=3):\n",
        "  pass\n",
        "\n",
        "result = top_categories(orders)\n",
        "print(result)"
      ],
      "metadata": {
        "id": "ozjF3dWwUbGs"
      },
      "execution_count": null,
      "outputs": []
    },
    {
      "cell_type": "markdown",
      "source": [
        "*Реалізуйте та викличте функцію `payment_stats(orders)` — скільки покупок було здійснено кожним способом оплати.*"
      ],
      "metadata": {
        "id": "s5Iz7N7pUbhH"
      }
    },
    {
      "cell_type": "code",
      "source": [
        "def payment_stats(orders: list):\n",
        "  pass\n",
        "\n",
        "result = payment_stats(orders)\n",
        "print(result)"
      ],
      "metadata": {
        "id": "eRq8PgstUduh"
      },
      "execution_count": null,
      "outputs": []
    },
    {
      "cell_type": "markdown",
      "source": [
        "*Реалізуйте та викличте функцію `average_discount(orders)` — середня знижка за всіма замовленнями.*"
      ],
      "metadata": {
        "id": "mdmk7WVvUeMD"
      }
    },
    {
      "cell_type": "code",
      "source": [
        "def average_discount(orders: list):\n",
        "  pass\n",
        "\n",
        "result = average_discount(orders)\n",
        "print(result)"
      ],
      "metadata": {
        "id": "qloXI5qKUfEs"
      },
      "execution_count": null,
      "outputs": []
    },
    {
      "cell_type": "markdown",
      "source": [
        "###**Task 4. Insights (1-3 речення)**"
      ],
      "metadata": {
        "id": "NS0e7kNiUlIZ"
      }
    },
    {
      "cell_type": "markdown",
      "source": [],
      "metadata": {
        "id": "eK_J2r7zUoU6"
      }
    }
  ]
}